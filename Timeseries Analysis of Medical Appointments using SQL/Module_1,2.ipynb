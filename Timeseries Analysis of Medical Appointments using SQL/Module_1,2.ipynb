{
  "nbformat": 4,
  "nbformat_minor": 0,
  "metadata": {
    "colab": {
      "provenance": []
    },
    "kernelspec": {
      "name": "python3",
      "display_name": "Python 3"
    },
    "language_info": {
      "name": "python"
    }
  },
  "cells": [
    {
      "cell_type": "markdown",
      "source": [
        "**MODULE 1**"
      ],
      "metadata": {
        "id": "va1BOGO9L9dq"
      }
    },
    {
      "cell_type": "markdown",
      "source": [
        "1. Load the data\n",
        "Read the patients data using 'Hospital_patients_datasets.csv' through pandas library and return the dataset for the further analysis."
      ],
      "metadata": {
        "id": "tIwIWjVwLGMh"
      }
    },
    {
      "cell_type": "code",
      "source": [
        "import numpy as np\n",
        "import pandas as pd\n",
        "\n",
        "\n",
        "def read_csv():\n",
        "    # Method to read the CSV file \"Hospital_patients_datasets.csv\" using pandas.\n",
        "    # Returns: Pandas DataFrame containing the data from the CSV file.\n",
        "    ds = pd.read_csv(\"Hospital_patients_datasets.csv\")\n",
        "    return ds"
      ],
      "metadata": {
        "id": "zCa9cHM_LKPh"
      },
      "execution_count": null,
      "outputs": []
    },
    {
      "cell_type": "code",
      "source": [
        "def check_duplicates():\n",
        "    ds = read_csv()\n",
        "    # Method to check for duplicate rows in the DataFrame.\n",
        "    # Returns: The number of duplicated rows found in the DataFrame.\n",
        "    ds = ds.duplicated(keep=False).sum()\n",
        "    return ds\n"
      ],
      "metadata": {
        "id": "cdJwqVpyLTOj"
      },
      "execution_count": null,
      "outputs": []
    },
    {
      "cell_type": "code",
      "source": [
        "def check_null_values():\n",
        "    ds = read_csv()\n",
        "    # Method to check for null (missing) values in the DataFrame.\n",
        "    # Returns: A pandas Series indicating the count of null values for each column in the DataFrame.\n",
        "    ds = ds.isna().sum()\n",
        "    return ds"
      ],
      "metadata": {
        "id": "WucEIbU_LfoZ"
      },
      "execution_count": null,
      "outputs": []
    },
    {
      "cell_type": "code",
      "source": [
        "def converting_dtype():\n",
        "    ds = read_csv()\n",
        "    # Method to convert 'ScheduledDay' and 'AppointmentDay' columns to datetime objects.\n",
        "    # Returns: DataFrame with 'ScheduledDay' and 'AppointmentDay' columns converted to datetime objects.\n",
        "    ds['ScheduledDay'] = pd.to_datetime(ds['ScheduledDay'], format=\"%Y-%m-%dT%H:%M:%SZ\", utc = False).dt.normalize()\n",
        "    ds['AppointmentDay'] = pd.to_datetime(ds['AppointmentDay'], format=\"%Y-%m-%dT%H:%M:%SZ\", utc = False).dt.normalize()\n",
        "    return ds"
      ],
      "metadata": {
        "id": "8XsKk78HLl5S"
      },
      "execution_count": null,
      "outputs": []
    },
    {
      "cell_type": "markdown",
      "source": [
        "5. Renaming the columns\n",
        "The rename_columns() function renames specific columns ('Hipertension' to 'Hypertension', 'Handcap' to 'Handicap', 'SMS_received' to 'SMSReceived', 'No-show' to 'NoShow'), and return the modified dataset."
      ],
      "metadata": {
        "id": "HSzwDzOaLoqR"
      }
    },
    {
      "cell_type": "code",
      "source": [
        "def rename_columns():\n",
        "    ds = converting_dtype()\n",
        "    # Method to rename some columns in the DataFrame.\n",
        "    # Returns: DataFrame with certain column names changed to new names.\n",
        "    ds = ds.rename(columns={'Hipertension': 'Hypertension', 'Handcap': 'Handicap', 'SMS_received': 'SMSRecevied', 'No-show':'NoShow'})\n",
        "    return ds"
      ],
      "metadata": {
        "id": "iPwWinzkLoQ9"
      },
      "execution_count": null,
      "outputs": []
    },
    {
      "cell_type": "markdown",
      "source": [
        "**MODULE 2**"
      ],
      "metadata": {
        "id": "M2nsXhrZMI2q"
      }
    },
    {
      "cell_type": "markdown",
      "source": [
        "1. Drop the unwanted columns\n",
        "Drop the columns 'PatientId', 'AppointmentID', and 'Neighbourhood' from the DataFrame, and return the modified DataFrame with these columns removed."
      ],
      "metadata": {
        "id": "rWuf5qPrMLKU"
      }
    },
    {
      "cell_type": "code",
      "source": [
        "import numpy as np\n",
        "import pandas as pd\n",
        "import module1 as m1\n",
        "\n",
        "\n",
        "def drop_columns():\n",
        "    ds = m1.rename_columns()\n",
        "    # Method to drop unnecessary columns from the DataFrame.\n",
        "    # Returns: DataFrame with specified columns dropped.\n",
        "    ds = ds.drop(['PatientId', 'AppointmentID','Neighbourhood' ], axis=1)\n",
        "    return ds"
      ],
      "metadata": {
        "id": "CeSPdlFrMUti"
      },
      "execution_count": null,
      "outputs": []
    },
    {
      "cell_type": "markdown",
      "source": [
        "2. Drop the rows where the value in the 'Age' column is equal to 0. And generate age group labels(given) and categorizes the 'Age' values into bins with 20-year intervals. Use pd.cut() function from the pandas library to create an 'Age_group' column in the DataFrame."
      ],
      "metadata": {
        "id": "Mkj_c6o8MYfc"
      }
    },
    {
      "cell_type": "code",
      "source": [
        "def create_bin():\n",
        "    ds = drop_columns()\n",
        "    #First Drop rows with Age == 0\n",
        "    ds = ds[ds.Age != 0]\n",
        "    # Generating labels for age intervals (e.g., '1 - 20', '21 - 40', etc.)\n",
        "    labels = [\"{0} - {1}\".format(i, i + 20) for i in range(1, 118, 20)]\n",
        "\n",
        "    # Using the pd.cut() function to categorize ages into groups(use bins = range(1, 130, 20) ,right=False and use the given labels)\n",
        "    ds['Age_group'] = pd.cut(ds['Age'], bins=range(1, 130, 20), labels=labels, right=False)\n",
        "\n",
        "    # Returning the modified dataset with assigned age groups\n",
        "    return ds"
      ],
      "metadata": {
        "id": "QzwDVpmKOBm3"
      },
      "execution_count": null,
      "outputs": []
    },
    {
      "cell_type": "code",
      "source": [
        "def drop():\n",
        "    ds = create_bin()\n",
        "    ds = ds.drop('Age', axis=1)\n",
        "    # Method to drop the original 'Age' column from the DataFrame.\n",
        "    # Returns: DataFrame with the 'Age' column dropped.\n",
        "    return ds\n"
      ],
      "metadata": {
        "id": "4uHecnUtONS2"
      },
      "execution_count": null,
      "outputs": []
    },
    {
      "cell_type": "markdown",
      "source": [
        "Convert the 'NoShow' column into a binary format"
      ],
      "metadata": {
        "id": "CN6s1CVoOYvB"
      }
    },
    {
      "cell_type": "code",
      "source": [
        "def convert():\n",
        "    ds = drop()\n",
        "    ds['NoShow'] = ds['NoShow'].apply(lambda x: 1 if x == 'Yes' else 0)\n",
        "\n",
        "    # Method to convert 'NoShow' values into binary values (1 for 'Yes' and 0 for 'No').\n",
        "    # Returns: DataFrame with 'NoShow' column values converted to 1s and 0s.\n",
        "    return ds\n"
      ],
      "metadata": {
        "id": "zagAtRujOOVG"
      },
      "execution_count": null,
      "outputs": []
    },
    {
      "cell_type": "code",
      "source": [
        "def export_the_dataset():\n",
        "    df = convert()\n",
        "    df = df.to_csv('patients.csv', index=False)\n",
        "    # write your code to export the cleaned dataset and set the index=false and return the same as 'df'\n",
        "    return df\n"
      ],
      "metadata": {
        "id": "L_3VXC3kOgOr"
      },
      "execution_count": null,
      "outputs": []
    },
    {
      "cell_type": "markdown",
      "source": [
        "Generate tables using the cleaned dataset:\n",
        " Export the new dataset as 'patients.csv'\n",
        "\n",
        "Utilize the MySQL database information to login manually and import the cleaned dataset and create the table name 'patients' that contains the below columns.\n",
        "\n",
        "Gender, ScheduledDay, AppointmentDay, Scholarship, Hypertension, Diabetes, Alcoholism, Handicap, SMSRecevied, NoShow, Age_group\n"
      ],
      "metadata": {
        "id": "ELpstKq3OvOU"
      }
    }
  ]
}